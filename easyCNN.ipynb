{
 "cells": [
  {
   "cell_type": "code",
   "execution_count": null,
   "metadata": {},
   "outputs": [],
   "source": [
    "#Import libraries\n",
    "import os\n",
    "import numpy as np\n",
    "from tensorflow.keras.preprocessing.image import ImageDataGenerator\n",
    "from sklearn.model_selection import train_test_split\n",
    "from tensorflow.keras.models import Sequential\n",
    "from tensorflow.keras.layers import Flatten, Dense\n",
    "from tensorflow.keras.applications import ResNet50\n",
    "from tensorflow.keras.optimizers import Adam"
   ]
  },
  {
   "cell_type": "code",
   "execution_count": null,
   "metadata": {},
   "outputs": [],
   "source": [
    "#Base training directory path\n",
    "base_dir = \"[INSERT PATH]\""
   ]
  },
  {
   "cell_type": "code",
   "execution_count": null,
   "metadata": {},
   "outputs": [],
   "source": [
    "#Load data in batches\n",
    "def load_and_prepare_data(path, image_size=(64, 64), batch_size=10000):\n",
    "    batches = ImageDataGenerator().flow_from_directory(\n",
    "        directory=path, \n",
    "        target_size=image_size, \n",
    "        batch_size=batch_size\n",
    "    )\n",
    "    data, labels = next(batches)\n",
    "    x_train, x_test, y_train, y_test = train_test_split(data, labels, test_size=0.3, random_state=42)\n",
    "    return x_train, x_test, y_train, y_test"
   ]
  },
  {
   "cell_type": "code",
   "execution_count": null,
   "metadata": {},
   "outputs": [],
   "source": [
    "#Define ResNet50 model\n",
    "def build_model(image_size, num_classes):\n",
    "    resnet = ResNet50(weights='imagenet', include_top=False, input_shape=(image_size[0], image_size[1], 3))\n",
    "    model = Sequential([\n",
    "        resnet,\n",
    "        Flatten(),\n",
    "        Dense(256, activation='relu'),\n",
    "        Dense(num_classes, activation='softmax')\n",
    "    ])\n",
    "    for layer in resnet.layers:\n",
    "        layer.trainable = False\n",
    "    model.compile(optimizer=Adam(), loss='categorical_crossentropy', metrics=['accuracy'])\n",
    "    return model"
   ]
  },
  {
   "cell_type": "code",
   "execution_count": null,
   "metadata": {},
   "outputs": [],
   "source": [
    "#Train CNN and log results\n",
    "def train_model(model, x_train, y_train, x_test, y_test):\n",
    "    history = model.fit(x_train, y_train, validation_data=(x_test, y_test), epochs=20)\n",
    "    return history"
   ]
  },
  {
   "cell_type": "code",
   "execution_count": null,
   "metadata": {},
   "outputs": [],
   "source": [
    "#Load the datasets\n",
    "x_train, x_test, y_train, y_test = load_and_prepare_data(base_dir)"
   ]
  },
  {
   "cell_type": "code",
   "execution_count": null,
   "metadata": {},
   "outputs": [],
   "source": [
    "\n",
    "#Build the model\n",
    "model = build_model(image_size=(64, 64), num_classes=len(np.unique(np.argmax(y_train, axis=1))))\n"
   ]
  },
  {
   "cell_type": "code",
   "execution_count": null,
   "metadata": {},
   "outputs": [],
   "source": [
    "\n",
    "#Train the model\n",
    "history = train_model(model, x_train, y_train, x_test, y_test)\n",
    "\n",
    "#Print accuracy\n",
    "accuracy = history.history['val_accuracy'][-1]\n",
    "print(f\"Validation Accuracy: {accuracy:.4f}\")"
   ]
  },
  {
   "cell_type": "code",
   "execution_count": null,
   "metadata": {},
   "outputs": [],
   "source": [
    "#Plot training history\n",
    "import matplotlib.pyplot as plt\n",
    "\n",
    "# Function to plot training history\n",
    "def plot_history(history):\n",
    "    # Create a figure for the plots\n",
    "    fig, axes = plt.subplots(1, 2, figsize=(14, 5))\n",
    "    \n",
    "    # Plot training and validation accuracy\n",
    "    axes[0].plot(history.history['accuracy'], label='Train Accuracy')\n",
    "    axes[0].plot(history.history['val_accuracy'], label='Validation Accuracy')\n",
    "    axes[0].set_title('Model Accuracy')\n",
    "    axes[0].set_xlabel('Epochs')\n",
    "    axes[0].set_ylabel('Accuracy')\n",
    "    axes[0].legend()\n",
    "    \n",
    "    # Plot training and validation loss\n",
    "    axes[1].plot(history.history['loss'], label='Train Loss')\n",
    "    axes[1].plot(history.history['val_loss'], label='Validation Loss')\n",
    "    axes[1].set_title('Model Loss')\n",
    "    axes[1].set_xlabel('Epochs')\n",
    "    axes[1].set_ylabel('Loss')\n",
    "    axes[1].legend()\n",
    "\n",
    "    # Display the plot\n",
    "    plt.tight_layout()\n",
    "    plt.show()\n",
    "\n",
    "# Example of how you would call this function with your training history\n",
    "# Assuming you have a `history` object from training your model\n",
    "plot_history(history)\n"
   ]
  }
 ],
 "metadata": {
  "kernelspec": {
   "display_name": "Python 3 (ipykernel)",
   "language": "python",
   "name": "python3"
  },
  "language_info": {
   "codemirror_mode": {
    "name": "ipython",
    "version": 3
   },
   "file_extension": ".py",
   "mimetype": "text/x-python",
   "name": "python",
   "nbconvert_exporter": "python",
   "pygments_lexer": "ipython3",
   "version": "3.11.0rc1"
  }
 },
 "nbformat": 4,
 "nbformat_minor": 2
}
