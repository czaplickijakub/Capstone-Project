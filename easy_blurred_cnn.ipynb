{
 "cells": [
  {
   "cell_type": "code",
   "execution_count": null,
   "metadata": {},
   "outputs": [],
   "source": [
    "#Import libraries\n",
    "\n",
    "import os\n",
    "import numpy as np\n",
    "from tensorflow.keras.preprocessing.image import ImageDataGenerator\n",
    "from tensorflow.keras.models import Sequential\n",
    "from tensorflow.keras.layers import Flatten, Dense\n",
    "from tensorflow.keras.applications import ResNet50\n",
    "from tensorflow.keras.optimizers import Adam\n",
    "import matplotlib.pyplot as plt"
   ]
  },
  {
   "cell_type": "code",
   "execution_count": null,
   "metadata": {},
   "outputs": [],
   "source": [
    "#Base training directory path\n",
    "base_dir = \"[INSERT PATH]\"\n",
    "\n",
    "#Path to validation folder (unblurred images)\n",
    "validation_dir = \"[INSERT PATH]\"\n",
    "\n",
    "#Intialize counter\n",
    "count = 0\n",
    "\n",
    "# List of directories for training with different blur levels\n",
    "train_dirs = [\n",
    "    base_dir + \"[3% PATH]\"\n",
    "    base_dir + \"[10% PATH]\"\n",
    "    base_dir + \"[25% PATH]\"\n",
    "]"
   ]
  },
  {
   "cell_type": "code",
   "execution_count": null,
   "metadata": {},
   "outputs": [],
   "source": [
    "#Load data in batches\n",
    "def load_data(path, image_size=(64, 64), batch_size=300):\n",
    "    generator = ImageDataGenerator().flow_from_directory(\n",
    "        directory=path,\n",
    "        target_size=image_size,\n",
    "        batch_size=batch_size,\n",
    "        class_mode='categorical'\n",
    "    )\n",
    "    return generator"
   ]
  },
  {
   "cell_type": "code",
   "execution_count": null,
   "metadata": {},
   "outputs": [],
   "source": [
    "#Define ResNet50 model\n",
    "def build_model(image_size, num_classes):\n",
    "    resnet = ResNet50(weights='imagenet', include_top=False, input_shape=(image_size[0], image_size[1], 3))\n",
    "    model = Sequential([\n",
    "        resnet,\n",
    "        Flatten(),\n",
    "        Dense(256, activation='relu'),\n",
    "        Dense(num_classes, activation='softmax')\n",
    "    ])\n",
    "    for layer in resnet.layers:\n",
    "        layer.trainable = False\n",
    "    model.compile(optimizer=Adam(), loss='categorical_crossentropy', metrics=['accuracy'])\n",
    "    return model"
   ]
  },
  {
   "cell_type": "code",
   "execution_count": null,
   "metadata": {},
   "outputs": [],
   "source": [
    "#Train CNN and log results\n",
    "def train_model(model, train_generator, validation_generator, epochs=10):\n",
    "    history = model.fit(\n",
    "        train_generator,\n",
    "        validation_data=validation_generator,\n",
    "        epochs=epochs\n",
    "    )\n",
    "    return history\n"
   ]
  },
  {
   "cell_type": "code",
   "execution_count": null,
   "metadata": {},
   "outputs": [],
   "source": [
    "#Output found classes\n",
    "validation_generator = load_data(validation_dir)"
   ]
  },
  {
   "cell_type": "code",
   "execution_count": null,
   "metadata": {},
   "outputs": [],
   "source": [
    "#Loop through each training directory and train a model for each\n",
    "for train_dir in train_dirs:\n",
    "    count += 1\n",
    "    print(f\"Processing directory: {train_dir}\")\n",
    "    train_generator = load_data(train_dir)\n",
    "    num_classes = len(train_generator.class_indices)\n",
    "    model = build_model(image_size=(64, 64), num_classes=num_classes)\n",
    "    history = train_model(model, train_generator, validation_generator)\n",
    "    \n",
    "    #Print accuracy for each model\n",
    "    accuracy = history.history['val_accuracy'][-1]\n",
    "    print(f\"Validation Accuracy for {train_dir}: {accuracy:.4f}\")\n",
    "\n",
    "    #Append accuracy to a file\n",
    "    with open(f'results{count}.txt', 'a') as file:\n",
    "        file.write(f\"Validation Accuracy for {train_dir}: {accuracy:.4f}\\n\")"
   ]
  },
  {
   "cell_type": "code",
   "execution_count": null,
   "metadata": {},
   "outputs": [],
   "source": [
    "#Function to output training history plots\n",
    "def plot_history(history):\n",
    "    fig, axes = plt.subplots(1, 2, figsize=(14, 5))\n",
    "    axes[0].plot(history.history['accuracy'], label='Train Accuracy')\n",
    "    axes[0].plot(history.history['val_accuracy'], label='Validation Accuracy')\n",
    "    axes[0].set_title('Model Accuracy')\n",
    "    axes[0].set_xlabel('Epochs')\n",
    "    axes[0].set_ylabel('Accuracy')\n",
    "    axes[0].legend()\n",
    "\n",
    "    axes[1].plot(history.history['loss'], label='Train Loss')\n",
    "    axes[1].plot(history.history['val_loss'], label='Validation Loss')\n",
    "    axes[1].set_title('Model Loss')\n",
    "    axes[1].set_xlabel('Epochs')\n",
    "    axes[1].set_ylabel('Loss')\n",
    "    axes[1].legend()\n",
    "\n",
    "    plt.tight_layout()\n",
    "    plt.show()\n",
    "    plt.savefig(f'output{count}.png')\n",
    "\n",
    "#Plot the training history\n",
    "plot_history(history)\n"
   ]
  }
 ],
 "metadata": {
  "kernelspec": {
   "display_name": "Python 3 (ipykernel)",
   "language": "python",
   "name": "python3"
  },
  "language_info": {
   "codemirror_mode": {
    "name": "ipython",
    "version": 3
   },
   "file_extension": ".py",
   "mimetype": "text/x-python",
   "name": "python",
   "nbconvert_exporter": "python",
   "pygments_lexer": "ipython3",
   "version": "3.11.0rc1"
  }
 },
 "nbformat": 4,
 "nbformat_minor": 2
}
